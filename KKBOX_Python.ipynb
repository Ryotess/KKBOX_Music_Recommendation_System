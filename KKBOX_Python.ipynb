{
 "cells": [
  {
   "cell_type": "code",
   "execution_count": 1,
   "metadata": {},
   "outputs": [],
   "source": [
    "import pandas as pd\n",
    "import numpy as np\n",
    "from scipy.sparse import coo_matrix\n",
    "from sklearn.decomposition import TruncatedSVD\n",
    "from sklearn.preprocessing import LabelEncoder\n",
    "import lightgbm as lgb"
   ]
  },
  {
   "cell_type": "code",
   "execution_count": 2,
   "metadata": {},
   "outputs": [],
   "source": [
    "# Load data\n",
    "train = pd.read_csv('./Data/train.csv')\n",
    "test = pd.read_csv('./Data/test.csv')\n",
    "songs = pd.read_csv('./Data/songs.csv')\n",
    "members = pd.read_csv('./Data/members.csv')\n",
    "songs_extra = pd.read_csv('./Data/song_extra_info.csv')"
   ]
  },
  {
   "cell_type": "code",
   "execution_count": 3,
   "metadata": {},
   "outputs": [],
   "source": [
    "# Preprocess members\n",
    "members['bd'] = np.where(members['bd'] < 13, 12, members['bd'])\n",
    "members['bd'] = np.where(members['bd'] > 74, 75, members['bd'])\n",
    "members['registration_init_time'] = members['registration_init_time'].astype(str)\n",
    "members['expiration_date'] = members['expiration_date'].astype(str)\n",
    "members['reg_year'] = members['registration_init_time'].str[:4].astype(float)\n",
    "members['reg_month'] = members['registration_init_time'].str[4:6].astype(float)\n",
    "members['reg_day'] = members['registration_init_time'].str[6:8].astype(float)\n",
    "members['exp_year'] = members['expiration_date'].str[:4].astype(float)\n",
    "members['exp_month'] = members['expiration_date'].str[4:6].astype(float)\n",
    "members['exp_day'] = members['expiration_date'].str[6:8].astype(float)\n",
    "members.drop(['registration_init_time', 'expiration_date'], axis=1, inplace=True)"
   ]
  },
  {
   "cell_type": "code",
   "execution_count": 4,
   "metadata": {},
   "outputs": [],
   "source": [
    "# Separate the 'genre_ids' column into separate columns g1, g2, g3, g4, g5, g6, g7, g8\n",
    "genres = songs['genre_ids'].str.split('|', expand=True)\n",
    "genres.columns = ['g1', 'g2', 'g3', 'g4', 'g5', 'g6', 'g7', 'g8']\n",
    "\n",
    "# Count the occurrences of each genre\n",
    "g = genres.values.flatten()\n",
    "g_counts = pd.Series(g).value_counts().sort_values(ascending=False)\n",
    "\n",
    "# Extract the top 5 genres\n",
    "pop_genre = g_counts.index[:5]\n",
    "\n",
    "# Function to set the 'genres' column based on the presence of popular genres\n",
    "def set_genre(x):\n",
    "    if pd.Series(x).dropna().isin(pop_genre).any():\n",
    "        return 'pop'\n",
    "    else:\n",
    "        return 'other'\n",
    "\n",
    "# Apply the 'set_genre' function to each row of the 'genre' DataFrame\n",
    "songs['genres'] = genres.apply(set_genre, axis=1)\n",
    "\n",
    "# Remove the 'genre_ids' column from the 'songs' DataFrame\n",
    "songs = songs.drop('genre_ids', axis=1)"
   ]
  },
  {
   "cell_type": "code",
   "execution_count": 5,
   "metadata": {},
   "outputs": [],
   "source": [
    "# Preprocess songs_extra\n",
    "def isrc_to_year(isrc):\n",
    "    if pd.notnull(isrc):\n",
    "        year = int(isrc[5:7])\n",
    "        if year > 17:\n",
    "            return 1900 + year\n",
    "        else:\n",
    "            return 2000 + year\n",
    "    else:\n",
    "        return None\n",
    "\n",
    "songs_extra['song_year'] = songs_extra['isrc'].apply(isrc_to_year)\n",
    "songs_extra.drop(['isrc', 'name'], axis=1, inplace=True)\n",
    "songs_extra['song_age'] = 2018 - songs_extra['song_year']"
   ]
  },
  {
   "cell_type": "code",
   "execution_count": 6,
   "metadata": {},
   "outputs": [],
   "source": [
    "# Merge data\n",
    "train = train.merge(members, on='msno', how='left')\n",
    "train = train.merge(songs, on='song_id', how='left')\n",
    "train = train.merge(songs_extra, on='song_id', how='left')\n",
    "\n",
    "test = test.merge(members, on='msno', how='left')\n",
    "test = test.merge(songs, on='song_id', how='left')\n",
    "test = test.merge(songs_extra, on='song_id', how='left')"
   ]
  },
  {
   "cell_type": "code",
   "execution_count": 7,
   "metadata": {},
   "outputs": [],
   "source": [
    "del members\n",
    "del songs_extra\n",
    "del songs\n",
    "del pop_genre\n",
    "del g_counts\n",
    "del g\n",
    "del genres\n",
    "del isrc_to_year\n",
    "del set_genre"
   ]
  },
  {
   "cell_type": "code",
   "execution_count": 8,
   "metadata": {},
   "outputs": [],
   "source": [
    "# 合併\n",
    "user_song = pd.concat([train[['msno','song_id']], test[['msno','song_id']]])\n",
    "user_song.reset_index(drop=True, inplace=True)\n",
    "\n",
    "# 建立稀疏矩陣\n",
    "msno_values = user_song['msno'].astype('category').cat.codes\n",
    "song_id_values = user_song['song_id'].astype('category').cat.codes\n",
    "ms_sparse = coo_matrix((pd.Series(1, index=user_song.index), (msno_values, song_id_values)))\n",
    "song_sparse = coo_matrix((pd.Series(1, index=user_song.index), ( song_id_values,msno_values)))\n",
    "# 將稀疏矩陣轉換為樞紐表\n",
    "ms_svd = pd.DataFrame.sparse.from_spmatrix(ms_sparse, index=user_song['msno'].unique(), columns=user_song['song_id'].unique())\n",
    "song_svd = pd.DataFrame.sparse.from_spmatrix(song_sparse, index=user_song['song_id'].unique(), columns=user_song['msno'].unique())\n",
    "\n",
    "# SVD\n",
    "svd = TruncatedSVD(n_components=30)\n",
    "svd.fit(ms_svd)\n",
    "ms_svd = svd.transform(ms_svd)\n",
    "\n",
    "svd = TruncatedSVD(n_components=30)\n",
    "svd.fit(song_svd)\n",
    "song_svd = svd.transform(song_svd)"
   ]
  },
  {
   "cell_type": "code",
   "execution_count": 9,
   "metadata": {},
   "outputs": [],
   "source": [
    "del svd\n",
    "del msno_values\n",
    "del song_id_values\n",
    "del ms_sparse\n",
    "del song_sparse"
   ]
  },
  {
   "cell_type": "code",
   "execution_count": 10,
   "metadata": {},
   "outputs": [],
   "source": [
    "ms_svd_c=['ms_1', 'ms_2', 'ms_3', 'ms_4', 'ms_5', 'ms_6', 'ms_7', 'ms_8', 'ms_9', 'ms_10',\n",
    "          'ms_11', 'ms_12', 'ms_13', 'ms_14', 'ms_15', 'ms_16', 'ms_17', 'ms_18', 'ms_19', 'ms_20',\n",
    "          'ms_21', 'ms_22', 'ms_23', 'ms_24', 'ms_25', 'ms_26', 'ms_27', 'ms_28', 'ms_29', 'ms_30']\n",
    "song_svd_c=['song_1', 'song_2', 'song_3', 'song_4', 'song_5', 'song_6', 'song_7', 'song_8', 'song_9', 'song_10',\n",
    "          'song_11', 'song_12', 'song_13', 'song_14', 'song_15', 'song_16', 'song_17', 'song_18', 'song_19', 'song_20',\n",
    "          'song_21', 'song_22', 'song_23', 'song_24', 'song_25', 'song_26', 'song_27', 'song_28', 'song_29', 'song_30']"
   ]
  },
  {
   "cell_type": "code",
   "execution_count": 11,
   "metadata": {},
   "outputs": [],
   "source": [
    "ms_svd = pd.DataFrame(ms_svd, index = user_song['msno'].unique(), columns=ms_svd_c)\n",
    "song_svd = pd.DataFrame(song_svd, index = user_song['song_id'].unique(), columns= song_svd_c)"
   ]
  },
  {
   "cell_type": "code",
   "execution_count": 12,
   "metadata": {},
   "outputs": [],
   "source": [
    "del user_song"
   ]
  },
  {
   "cell_type": "code",
   "execution_count": 13,
   "metadata": {},
   "outputs": [],
   "source": [
    "train = train.merge(ms_svd, left_on = 'msno', right_index = True, how = 'left')\n",
    "test = test.merge(ms_svd, left_on = 'msno', right_index = True, how = 'left')\n",
    "del ms_svd\n",
    "train = train.merge(song_svd, left_on ='song_id', right_index = True, how = 'left')\n",
    "test = test.merge(song_svd, left_on ='song_id', right_index = True, how = 'left')\n",
    "del song_svd"
   ]
  },
  {
   "cell_type": "code",
   "execution_count": 14,
   "metadata": {},
   "outputs": [],
   "source": [
    "# Calculate user activity\n",
    "user_activity_train = train['msno'].value_counts().reset_index()\n",
    "user_activity_train.columns = ['msno', 'user_activity']\n",
    "user_activity_test = test['msno'].value_counts().reset_index()\n",
    "user_activity_test.columns = ['msno', 'user_activity']\n",
    "user_activity = pd.concat([user_activity_train, user_activity_test]).drop_duplicates(subset='msno')\n",
    "\n",
    "del user_activity_train\n",
    "del user_activity_test\n",
    "\n",
    "# Calculate number of times played\n",
    "song_played_count_train = train['song_id'].value_counts().reset_index()\n",
    "song_played_count_train.columns = ['song_id', 'number_of_time_played']\n",
    "song_played_count_test = test['song_id'].value_counts().reset_index()\n",
    "song_played_count_test.columns = ['song_id', 'number_of_time_played']\n",
    "song_played_count = pd.concat([song_played_count_train, song_played_count_test]).drop_duplicates(subset='song_id')\n",
    "\n",
    "del song_played_count_train\n",
    "del song_played_count_test\n",
    "\n",
    "# Merge user activity and song played count\n",
    "train = train.merge(user_activity, on='msno', how='left')\n",
    "test = test.merge(user_activity, on='msno', how='left')\n",
    "del user_activity\n",
    "\n",
    "train = train.merge(song_played_count, on='song_id', how='left')\n",
    "test = test.merge(song_played_count, on='song_id', how='left')\n",
    "del song_played_count"
   ]
  },
  {
   "cell_type": "code",
   "execution_count": 15,
   "metadata": {},
   "outputs": [],
   "source": [
    "dot_c=['dot_1', 'dot_2', 'dot_3', 'dot_4', 'dot_5', 'dot_6', 'dot_7', 'dot_8', 'dot_9', 'dot_10',\n",
    "          'dot_11', 'dot_12', 'dot_13', 'dot_14', 'dot_15', 'dot_16', 'dot_17', 'dot_18', 'dot_19', 'dot_20',\n",
    "          'dot_21', 'dot_22', 'dot_23', 'dot_24', 'dot_25', 'dot_26', 'dot_27', 'dot_28', 'dot_29', 'dot_30']"
   ]
  },
  {
   "cell_type": "code",
   "execution_count": 16,
   "metadata": {},
   "outputs": [],
   "source": [
    "train_ms_svd = train[ms_svd_c].values\n",
    "train_song_svd = train[song_svd_c].values\n",
    "train_dot = train_ms_svd * train_song_svd\n",
    "train_dotsum = np.sum(np.multiply(train_ms_svd, train_song_svd), axis=1)\n",
    "\n",
    "del train_ms_svd\n",
    "del train_song_svd"
   ]
  },
  {
   "cell_type": "code",
   "execution_count": 17,
   "metadata": {},
   "outputs": [],
   "source": [
    "train_dot = pd.DataFrame(train_dot, columns=dot_c)\n",
    "train_dotsum = pd.DataFrame(train_dotsum, columns=['sumdot'])\n",
    "train = pd.concat([train, train_dot, train_dotsum], axis=1)\n",
    "del train_dotsum\n",
    "del train_dot"
   ]
  },
  {
   "cell_type": "code",
   "execution_count": 19,
   "metadata": {},
   "outputs": [],
   "source": [
    "test_ms_svd = test[ms_svd_c].values\n",
    "test_song_svd = test[song_svd_c].values\n",
    "test_dot = test_ms_svd * test_song_svd\n",
    "test_dotsum = np.sum(np.multiply(test_ms_svd, test_song_svd), axis=1)\n",
    "del test_ms_svd\n",
    "del test_song_svd"
   ]
  },
  {
   "cell_type": "code",
   "execution_count": 20,
   "metadata": {},
   "outputs": [],
   "source": [
    "test_dot = pd.DataFrame(test_dot, columns=dot_c)\n",
    "test_dotsum = pd.DataFrame(test_dotsum, columns=['sumdot'])\n",
    "test = pd.concat([test, test_dot, test_dotsum], axis=1)\n",
    "del test_dotsum\n",
    "del test_dot"
   ]
  },
  {
   "cell_type": "code",
   "execution_count": 24,
   "metadata": {},
   "outputs": [],
   "source": [
    "del dot_c\n",
    "del ms_svd_c\n",
    "del song_svd_c"
   ]
  },
  {
   "cell_type": "code",
   "execution_count": 25,
   "metadata": {},
   "outputs": [],
   "source": [
    "from sklearn.model_selection import train_test_split\n",
    "\n",
    "# Prepare data for training\n",
    "X = train.drop(['target'], axis=1)\n",
    "y = train['target']\n",
    "X_test = test.drop(['id'], axis=1)\n",
    "ids = test['id']\n",
    "\n",
    "# Convert character columns to categorical features\n",
    "char_columns = X.select_dtypes(include=['object']).columns\n",
    "for col in char_columns:\n",
    "    X[col] = X[col].astype('category')\n",
    "    X_test[col] = X_test[col].astype('category')\n"
   ]
  },
  {
   "cell_type": "code",
   "execution_count": 31,
   "metadata": {},
   "outputs": [],
   "source": [
    "del train\n",
    "del test"
   ]
  },
  {
   "cell_type": "code",
   "execution_count": 26,
   "metadata": {},
   "outputs": [],
   "source": [
    "# Split the train data into train and validation sets\n",
    "train_data, val_data, train_target, val_target = train_test_split(X, y, test_size=0.2, random_state=42)"
   ]
  },
  {
   "cell_type": "code",
   "execution_count": 36,
   "metadata": {},
   "outputs": [
    {
     "name": "stderr",
     "output_type": "stream",
     "text": [
      "c:\\Users\\Aorus\\.conda\\envs\\yolo\\lib\\site-packages\\lightgbm\\engine.py:177: UserWarning: Found `num_rounds` in params. Will use it instead of argument\n",
      "  _log_warning(f\"Found `{alias}` in params. Will use it instead of argument\")\n",
      "c:\\Users\\Aorus\\.conda\\envs\\yolo\\lib\\site-packages\\lightgbm\\engine.py:181: UserWarning: 'early_stopping_rounds' argument is deprecated and will be removed in a future release of LightGBM. Pass 'early_stopping()' callback via 'callbacks' argument instead.\n",
      "  _log_warning(\"'early_stopping_rounds' argument is deprecated and will be removed in a future release of LightGBM. \"\n",
      "c:\\Users\\Aorus\\.conda\\envs\\yolo\\lib\\site-packages\\lightgbm\\engine.py:260: UserWarning: 'evals_result' argument is deprecated and will be removed in a future release of LightGBM. Pass 'record_evaluation()' callback via 'callbacks' argument instead.\n",
      "  _log_warning(\"'evals_result' argument is deprecated and will be removed in a future release of LightGBM. \"\n"
     ]
    },
    {
     "name": "stdout",
     "output_type": "stream",
     "text": [
      "[LightGBM] [Info] Number of positive: 2971310, number of negative: 2930624\n",
      "[LightGBM] [Warning] Auto-choosing col-wise multi-threading, the overhead of testing was 0.856010 seconds.\n",
      "You can set `force_col_wise=true` to remove the overhead.\n",
      "[LightGBM] [Info] Total Bins 67526\n",
      "[LightGBM] [Info] Number of data points in the train set: 5901934, number of used features: 116\n"
     ]
    },
    {
     "name": "stderr",
     "output_type": "stream",
     "text": [
      "c:\\Users\\Aorus\\.conda\\envs\\yolo\\lib\\site-packages\\lightgbm\\basic.py:1780: UserWarning: Overriding the parameters from Reference Dataset.\n",
      "  _log_warning('Overriding the parameters from Reference Dataset.')\n",
      "c:\\Users\\Aorus\\.conda\\envs\\yolo\\lib\\site-packages\\lightgbm\\basic.py:1513: UserWarning: categorical_column in param dict is overridden.\n",
      "  _log_warning(f'{cat_alias} in param dict is overridden.')\n"
     ]
    },
    {
     "name": "stdout",
     "output_type": "stream",
     "text": [
      "[LightGBM] [Info] [binary:BoostFromScore]: pavg=0.503447 -> initscore=0.013788\n",
      "[LightGBM] [Info] Start training from score 0.013788\n"
     ]
    }
   ],
   "source": [
    "# Create LightGBM datasets\n",
    "lgb_train = lgb.Dataset(train_data, label=train_target)\n",
    "lgb_val = lgb.Dataset(val_data, label=val_target, reference=lgb_train)\n",
    "\n",
    "# Train the LightGBM model\n",
    "evals_result = {} \n",
    "params = {\n",
    "    'objective': 'binary',\n",
    "    'metric': 'auc',\n",
    "    'boosting_type': 'gbdt',\n",
    "    'learning_rate': 0.25,\n",
    "    'num_leaves': 250,\n",
    "    'bagging_fraction': 0.95,\n",
    "    'bagging_freq': 1,\n",
    "    'bagging_seed': 1,\n",
    "    'feature_fraction': 0.9,\n",
    "    'feature_fraction_seed': 1,\n",
    "    'max_depth': -1,\n",
    "    'num_rounds': 300,\n",
    "}\n",
    "\n",
    "kkbox = lgb.train(params, lgb_train, valid_sets=[lgb_train, lgb_val],\n",
    "                  early_stopping_rounds=10,\n",
    "                  evals_result=evals_result,\n",
    "                  callbacks=[lgb.record_evaluation(evals_result)])"
   ]
  },
  {
   "cell_type": "code",
   "execution_count": 37,
   "metadata": {},
   "outputs": [
    {
     "data": {
      "text/plain": [
       "<Axes: title={'center': 'Metric during training'}, xlabel='Iterations', ylabel='auc'>"
      ]
     },
     "execution_count": 37,
     "metadata": {},
     "output_type": "execute_result"
    },
    {
     "data": {
      "image/png": "[encoded data removed]",
      "text/plain": [
       "<Figure size 640x480 with 1 Axes>"
      ]
     },
     "metadata": {},
     "output_type": "display_data"
    }
   ],
   "source": [
    "lgb.plot_metric(evals_result, metric='auc')"
   ]
  },
  {
   "cell_type": "code",
   "execution_count": 38,
   "metadata": {},
   "outputs": [],
   "source": [
    "# Make predictions on the test data\n",
    "test_predictions = kkbox.predict(X_test)\n",
    "\n",
    "# Create submission file\n",
    "subm = pd.DataFrame({'id': ids, 'target': test_predictions})\n",
    "subm.to_csv('submission.csv', index=False)"
   ]
  }
 ],
 "metadata": {
  "kernelspec": {
   "display_name": "yolo",
   "language": "python",
   "name": "python3"
  },
  "language_info": {
   "codemirror_mode": {
    "name": "ipython",
    "version": 3
   },
   "file_extension": ".py",
   "mimetype": "text/x-python",
   "name": "python",
   "nbconvert_exporter": "python",
   "pygments_lexer": "ipython3",
   "version": "3.8.16"
  },
  "orig_nbformat": 4
 },
 "nbformat": 4,
 "nbformat_minor": 2
}
